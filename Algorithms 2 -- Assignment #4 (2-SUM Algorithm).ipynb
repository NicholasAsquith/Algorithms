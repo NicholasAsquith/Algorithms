{
 "cells": [
  {
   "cell_type": "code",
   "execution_count": null,
   "metadata": {},
   "outputs": [],
   "source": [
    "#ans = 427\n",
    "data, count, n = set(map(int, open('C:/2sum.txt').read().splitlines())), 0, 1000003\n",
    "\n",
    "def two_sum():\n",
    "    global count\n",
    "\n",
    "    H = []\n",
    "    for i in range(n):\n",
    "        H.append(set())\n",
    "\n",
    "    for x in data:\n",
    "        insert(H, x)\n",
    "\n",
    "    for t in range(-10000, 10000 + 1):\n",
    "        for x in data:\n",
    "            if t - x != x and lookup(H, t - x):\n",
    "                count += 1\n",
    "\n",
    "    print(count)\n",
    "\n",
    "def insert(H, x):\n",
    "    H[hashfunc(x)].add(x)\n",
    "\n",
    "def lookup(H, x):\n",
    "    if x in H[hashfunc(x)]:\n",
    "        return True\n",
    "    return False\n",
    "\n",
    "def hashfunc(x):\n",
    "    return (x >> 10) % n\n",
    "\n",
    "if __name__ == '__main__':\n",
    "    two_sum()"
   ]
  },
  {
   "cell_type": "code",
   "execution_count": null,
   "metadata": {},
   "outputs": [],
   "source": []
  }
 ],
 "metadata": {
  "kernelspec": {
   "display_name": "Python 3",
   "language": "python",
   "name": "python3"
  },
  "language_info": {
   "codemirror_mode": {
    "name": "ipython",
    "version": 3
   },
   "file_extension": ".py",
   "mimetype": "text/x-python",
   "name": "python",
   "nbconvert_exporter": "python",
   "pygments_lexer": "ipython3",
   "version": "3.7.1"
  }
 },
 "nbformat": 4,
 "nbformat_minor": 2
}
