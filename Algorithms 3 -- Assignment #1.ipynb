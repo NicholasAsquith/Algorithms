{
 "cells": [
  {
   "cell_type": "code",
   "execution_count": 8,
   "metadata": {},
   "outputs": [
    {
     "name": "stdout",
     "output_type": "stream",
     "text": [
      "69119377652\n"
     ]
    }
   ],
   "source": [
    "###############Problem 1\n",
    "jobsFile = open('C:/jobs.txt','r')\n",
    "lines = jobsFile.readlines()[1:]\n",
    "\n",
    "jobs = []\n",
    "length,weight = 0,0\n",
    "\n",
    "for line in lines:\n",
    "    weight = int(line.split()[0])\n",
    "    length = int(line.split()[1])\n",
    "    jobs.append([weight,length,weight - length])\n",
    "\n",
    "jobs = sorted(jobs,key = lambda x:(x[2],x[0]))\n",
    "jobs = jobs[-1::-1]#inverse, decreasing order\n",
    "sumTime = 0\n",
    "sumLength = 0 \n",
    "for job in jobs:\n",
    "    sumLength += job[1]\n",
    "    sumTime += job[0] * sumLength\n",
    "print(sumTime)"
   ]
  },
  {
   "cell_type": "code",
   "execution_count": 9,
   "metadata": {},
   "outputs": [
    {
     "name": "stdout",
     "output_type": "stream",
     "text": [
      "67311454237\n"
     ]
    }
   ],
   "source": [
    "jobsFile = open('C:/jobs.txt','r')\n",
    "lines = jobsFile.readlines()[1:]\n",
    "\n",
    "jobs = []\n",
    "length,weight = 0,0\n",
    "for line in lines:\n",
    "    weight = int(line.split()[0])\n",
    "    length = int(line.split()[1])\n",
    "    jobs.append([weight,length,float(weight) / float(length)])\n",
    "\n",
    "jobs = sorted(jobs,key = lambda x:x[2])\n",
    "jobs = jobs[-1::-1]\n",
    "sumTime = 0\n",
    "sumLength = 0 \n",
    "for job in jobs:\n",
    "    sumLength += job[1]\n",
    "    sumTime += job[0] * sumLength\n",
    "print(sumTime)"
   ]
  },
  {
   "cell_type": "code",
   "execution_count": 11,
   "metadata": {},
   "outputs": [
    {
     "ename": "IndexError",
     "evalue": "list index out of range",
     "output_type": "error",
     "traceback": [
      "\u001b[1;31m---------------------------------------------------------------------------\u001b[0m",
      "\u001b[1;31mIndexError\u001b[0m                                Traceback (most recent call last)",
      "\u001b[1;32m<ipython-input-11-e8489b92c90a>\u001b[0m in \u001b[0;36m<module>\u001b[1;34m\u001b[0m\n\u001b[0;32m     37\u001b[0m \u001b[0mlines\u001b[0m \u001b[1;33m=\u001b[0m \u001b[0mnodeFile\u001b[0m\u001b[1;33m.\u001b[0m\u001b[0mreadlines\u001b[0m\u001b[1;33m(\u001b[0m\u001b[1;33m)\u001b[0m\u001b[1;33m\u001b[0m\u001b[1;33m\u001b[0m\u001b[0m\n\u001b[0;32m     38\u001b[0m \u001b[0mnumberOfNodes\u001b[0m \u001b[1;33m=\u001b[0m \u001b[0mint\u001b[0m\u001b[1;33m(\u001b[0m\u001b[0mlines\u001b[0m\u001b[1;33m[\u001b[0m\u001b[1;36m0\u001b[0m\u001b[1;33m]\u001b[0m\u001b[1;33m.\u001b[0m\u001b[0msplit\u001b[0m\u001b[1;33m(\u001b[0m\u001b[1;33m)\u001b[0m\u001b[1;33m[\u001b[0m\u001b[1;36m0\u001b[0m\u001b[1;33m]\u001b[0m\u001b[1;33m)\u001b[0m\u001b[1;33m\u001b[0m\u001b[1;33m\u001b[0m\u001b[0m\n\u001b[1;32m---> 39\u001b[1;33m \u001b[0mnumberOfEdges\u001b[0m \u001b[1;33m=\u001b[0m \u001b[0mint\u001b[0m\u001b[1;33m(\u001b[0m\u001b[0mlines\u001b[0m\u001b[1;33m[\u001b[0m\u001b[1;36m0\u001b[0m\u001b[1;33m]\u001b[0m\u001b[1;33m.\u001b[0m\u001b[0msplit\u001b[0m\u001b[1;33m(\u001b[0m\u001b[1;33m)\u001b[0m\u001b[1;33m[\u001b[0m\u001b[1;36m1\u001b[0m\u001b[1;33m]\u001b[0m\u001b[1;33m)\u001b[0m\u001b[1;33m\u001b[0m\u001b[1;33m\u001b[0m\u001b[0m\n\u001b[0m\u001b[0;32m     40\u001b[0m \u001b[0mlines\u001b[0m \u001b[1;33m=\u001b[0m \u001b[0mlines\u001b[0m\u001b[1;33m[\u001b[0m\u001b[1;36m1\u001b[0m\u001b[1;33m:\u001b[0m\u001b[1;33m]\u001b[0m\u001b[1;33m\u001b[0m\u001b[1;33m\u001b[0m\u001b[0m\n\u001b[0;32m     41\u001b[0m \u001b[0medges\u001b[0m \u001b[1;33m=\u001b[0m \u001b[1;33m[\u001b[0m\u001b[1;33m]\u001b[0m\u001b[1;31m#edges starts from 0\u001b[0m\u001b[1;33m\u001b[0m\u001b[1;33m\u001b[0m\u001b[0m\n",
      "\u001b[1;31mIndexError\u001b[0m: list index out of range"
     ]
    }
   ],
   "source": [
    "import sys\n",
    "sys.setrecursionlimit(3000)\n",
    "from jzHeap import jzHeap\n",
    "\n",
    "class Node:\n",
    "    def __init__(self,id,key,edge,isX,index=9999):\n",
    "        self.id = id\n",
    "        self.key = key\n",
    "        self.edge = edge\n",
    "        self.isX = isX\n",
    "        self.index = index\n",
    "        \n",
    "    #reload > sign\n",
    "    def __gt__(self,other):\n",
    "        if self.key > other.key:\n",
    "            return True\n",
    "        else:\n",
    "            return False\n",
    "\n",
    "    def __repr__(self):\n",
    "        return str(\"id/t\"+str(self.id)+\"/nkey/t\"+str(self.key)+\"/nedge/t\"+str(self.edge)+\"/nisInX/t\"+str(self.isX) + \"/nindex/t\"+str(self.index))\n",
    "\n",
    "def computeKey(node):\n",
    "    costs = []\n",
    "    edgesOfNode = node.edge\n",
    "    for edgeNo in edgesOfNode:\n",
    "        edge = edges[edgeNo]\n",
    "        end1 = edge[0]\n",
    "        end2 = edge[1]\n",
    "        cost = edge[2]\n",
    "        if nodes[end1].isX or nodes[end2].isX:\n",
    "            costs.append(cost)\n",
    "    return min(costs) if costs else 9999\n",
    "\n",
    "#Initialization\n",
    "nodeFile = open('C:/edges.txt','r')\n",
    "lines = nodeFile.readlines()\n",
    "numberOfNodes = int(lines[0].split()[0])\n",
    "numberOfEdges = int(lines[0].split()[1])\n",
    "lines = lines[1:]\n",
    "edges = []#edges starts from 0\n",
    "nodes = [None for i in range(numberOfNodes+1)]#nodes starts from 1,to 500. so nodes[500] is OK\n",
    "lineNumber = 0#Indicate which line id being executed\n",
    "\n",
    "for line in lines:\n",
    "    end1 = int(line.split()[0])\n",
    "    end2 = int(line.split()[1])\n",
    "    cost = int(line.split()[2])\n",
    "    edges.append([end1,end2,cost])#write into the edges list\n",
    "    #if vertex end1/2 not in the nodeList,insert it,else, append the line into the node\n",
    "    if nodes[end1] == None:\n",
    "        newNode = Node(end1,9999,[lineNumber],False)\n",
    "        nodes[end1] = newNode\n",
    "    else:\n",
    "        nodes[end1].edge.append(lineNumber)\n",
    "    if nodes[end2] == None:\n",
    "        newNode = Node(end2,9999,[lineNumber],False)\n",
    "        nodes[end2] = newNode\n",
    "    else:\n",
    "        nodes[end2].edge.append(lineNumber)\n",
    "    lineNumber += 1\n",
    "\n",
    "#Initialize X\n",
    "X = [nodes[1]]\n",
    "nodes[1].isX = True\n",
    "nodes[1].key = 0\n",
    "\n",
    "#Initialize V-X\n",
    "V_X = jzHeap()\n",
    "for node in nodes[2:]:\n",
    "    node.key = computeKey(node)\n",
    "    V_X.push(node)\n",
    "\n",
    "while V_X.heapList:\n",
    "    minItem = V_X.getMin()\n",
    "    if len(V_X.heapList) == 1:\n",
    "        pass\n",
    "    minItem.isX = True\n",
    "    X.append(minItem)\n",
    "    end1s = [edges[edgeIndex][0] for edgeIndex in minItem.edge]\n",
    "    end2s = [edges[edgeIndex][1] for edgeIndex in minItem.edge]\n",
    "    ends = end1s + end2s\n",
    "    for nodeIndex in ends:\n",
    "        theNode =nodes[nodeIndex]\n",
    "        if not theNode.isX:\n",
    "            V_X.deleteItem(theNode.index)\n",
    "            theNode.key = computeKey(theNode)\n",
    "            V_X.push(theNode)\n",
    "                    \n",
    "    \n",
    "    \n",
    "print(\"Overall cost of a minimum spanning tree\"+str(sum([x.key for x in X])))"
   ]
  },
  {
   "cell_type": "code",
   "execution_count": null,
   "metadata": {},
   "outputs": [],
   "source": []
  }
 ],
 "metadata": {
  "kernelspec": {
   "display_name": "Python 3",
   "language": "python",
   "name": "python3"
  },
  "language_info": {
   "codemirror_mode": {
    "name": "ipython",
    "version": 3
   },
   "file_extension": ".py",
   "mimetype": "text/x-python",
   "name": "python",
   "nbconvert_exporter": "python",
   "pygments_lexer": "ipython3",
   "version": "3.7.1"
  }
 },
 "nbformat": 4,
 "nbformat_minor": 2
}
