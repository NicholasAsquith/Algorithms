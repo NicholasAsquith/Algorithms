{
 "cells": [
  {
   "cell_type": "code",
   "execution_count": 2,
   "metadata": {},
   "outputs": [],
   "source": [
    "#import random # library for random number generation\n",
    "import numpy as np # library for vectorized computation\n",
    "import pandas as pd # library to process data as dataframes\n",
    "import scrapy #web scraping library \n",
    "#import matplotlib.pyplot as plt # plotting library\n",
    "#import requests #html query library\n",
    "#from bs4 import BeautifulSoup #html scraping library"
   ]
  },
  {
   "cell_type": "code",
   "execution_count": 5,
   "metadata": {},
   "outputs": [
    {
     "ename": "SyntaxError",
     "evalue": "invalid syntax (<ipython-input-5-9a0715fe366c>, line 1)",
     "output_type": "error",
     "traceback": [
      "\u001b[1;36m  File \u001b[1;32m\"<ipython-input-5-9a0715fe366c>\"\u001b[1;36m, line \u001b[1;32m1\u001b[0m\n\u001b[1;33m    scrapy startproject homes\u001b[0m\n\u001b[1;37m                      ^\u001b[0m\n\u001b[1;31mSyntaxError\u001b[0m\u001b[1;31m:\u001b[0m invalid syntax\n"
     ]
    }
   ],
   "source": [
    "scrapy startproject homes"
   ]
  },
  {
   "cell_type": "code",
   "execution_count": 4,
   "metadata": {},
   "outputs": [],
   "source": [
    "#Function for pulling random user agent\n",
    "def get_random_ua():\n",
    "    random_ua = ''\n",
    "    ua_file = 'ua_file.txt'\n",
    "    try:\n",
    "        with open(ua_file) as f:\n",
    "            lines = f.readlines()\n",
    "        if len(lines) > 0:\n",
    "            prng = np.random.RandomState()\n",
    "            index = prng.permutation(len(lines) - 1)\n",
    "            idx = np.asarray(index, dtype=np.integer)[0]\n",
    "            random_proxy = lines[int(idx)]\n",
    "    except Exception as ex:\n",
    "        print('Exception in random_ua')\n",
    "        print(str(ex))\n",
    "    finally:\n",
    "        return random_ua\n",
    "user_agent = get_random_ua()\n",
    "headers = {\n",
    "        'user-agent': user_agent,\n",
    "    }"
   ]
  },
  {
   "cell_type": "code",
   "execution_count": 3,
   "metadata": {},
   "outputs": [
    {
     "data": {
      "text/html": [
       "<div>\n",
       "<style scoped>\n",
       "    .dataframe tbody tr th:only-of-type {\n",
       "        vertical-align: middle;\n",
       "    }\n",
       "\n",
       "    .dataframe tbody tr th {\n",
       "        vertical-align: top;\n",
       "    }\n",
       "\n",
       "    .dataframe thead th {\n",
       "        text-align: right;\n",
       "    }\n",
       "</style>\n",
       "<table border=\"1\" class=\"dataframe\">\n",
       "  <thead>\n",
       "    <tr style=\"text-align: right;\">\n",
       "      <th></th>\n",
       "      <th>リクエストがブロックされました！ あなたのリクエストがボットからのアクセスと判断されました。この画面が表示される理由はいくつかあります。  通常のサイト閲覧を超える速度でリクエストを繰り返している ウェブブラウザのJavaScript設定が無効になっている Ghostery や NoScriptなどのサードパーティのブラウザプラグインによってJavaScriptの実行が邪魔されている  サードパーティのブラウザプラグインによる詳細情報は下記のリンクよりご覧いただけます。 サポート記事(英語) サイトの閲覧を続けるには下のテキストボックスに画像の文字を入力してボタンをクリックしてください。  var distilRequestMethod = \"GET\";  var distilSafariNumberStepsBack = 1;  var distilCallbackGuard = function(callbackName) {  return function() {  if (typeof(window[callbackName]) === 'function') {  return window[callbackName].apply(null, arguments)  } else {  document.getElementById('dCF_input_complete').style.display = 'inline'  }  }  }  JavaScript needs to be enabled to complete CAPTCHA.  function generateCaptcha(timeout) { return function() {  // IE 6 and below is the reason for `generateCaptcha` taking a timeout and  // returning a function. In those browsers, `setTimeout` is unable to pass additional  // parameters to the function when the timeout is triggered.  document.getElementById('dCF_input_complete').style.display = 'none'  var xhr;  if (window.XMLHttpRequest) {  //Modern browsers use native object  xhr = new XMLHttpRequest();  } else {  //IE 5 and 6  xhr = new ActiveXObject(\"Microsoft.XMLHTTP\");  }  xhr.open('POST', \"/distil_r_captcha_challenge\", true);  xhr.onreadystatechange = function(){  var captchaDestinationId = 'captcha-box'  var captchaStatus = document.getElementById('captcha-status-message')  if (xhr.readyState == 4) {  if (xhr.status == 200) {  captchaStatus.setAttribute('class', 'text-info')  captchaStatus.innerHTML = 'Loading Captcha &amp;hellip;&lt;br&gt;'  captchaStatus.style.display = \"inline\"  var response = xhr.responseText.split(';')  initGeetest({  gt: 'f2ae6cadcf7886856696502e1d55e00c' ,  challenge: response[0], // Challenge encoded  product: 'float',  offline: false,  new_captcha: 1,  api_server: 'api-na.geetest.com',  lang: response[1] // Language encoded  }, function(captchaObj){  captchaObj.onReady(function() {  captchaStatus.style.display = 'none'  captchaStatus.setAttribute('class', 'text-info')  })  captchaObj.appendTo(document.getElementById(captchaDestinationId))  captchaObj.onSuccess(distilCallbackGuard(\"distilCaptchaDoneCallback\"))  })  } else {  captchaStatus.innerHTML = \"We&amp;apos;re having trouble loading your Captcha. Consider refreshing the page.&lt;br&gt;\"  captchaStatus.setAttribute('class', 'text-danger')  captchaStatus.style.display = \"inline\"  window.setTimeout(generateCaptcha(timeout * 2), timeout)  }  }  }  xhr.send()  } }  if (window.addEventListener) {  window.addEventListener('load', generateCaptcha(500), false);  } else if (window.attachEvent) {  // IE 5 and 6  window.attachEvent('onload', generateCaptcha(500));  }  You reached this page when attempting to access http://www.homes.co.jp/chintai/tokyo/list/ from 219.100.28.187 on 2019-08-31 06:29:57 UTC.  Trace: 45a5952e-52f0-48e2-8353-caa0f400543e via ee8515d0-2f2d-4d63-b8a3-36f2a7f0cc50  ページが表示されない場合はこちらのフォームからお問い合わせください。</th>\n",
       "      <th>リクエストがブロックされました！ あなたのリクエストがボットからのアクセスと判断されました。この画面が表示される理由はいくつかあります。  通常のサイト閲覧を超える速度でリクエストを繰り返している ウェブブラウザのJavaScript設定が無効になっている Ghostery や NoScriptなどのサードパーティのブラウザプラグインによってJavaScriptの実行が邪魔されている  サードパーティのブラウザプラグインによる詳細情報は下記のリンクよりご覧いただけます。 サポート記事(英語) サイトの閲覧を続けるには下のテキストボックスに画像の文字を入力してボタンをクリックしてください。  var distilRequestMethod = \"GET\";  var distilSafariNumberStepsBack = 1;  var distilCallbackGuard = function(callbackName) {  return function() {  if (typeof(window[callbackName]) === 'function') {  return window[callbackName].apply(null, arguments)  } else {  document.getElementById('dCF_input_complete').style.display = 'inline'  }  }  }  JavaScript needs to be enabled to complete CAPTCHA.  function generateCaptcha(timeout) { return function() {  // IE 6 and below is the reason for `generateCaptcha` taking a timeout and  // returning a function. In those browsers, `setTimeout` is unable to pass additional  // parameters to the function when the timeout is triggered.  document.getElementById('dCF_input_complete').style.display = 'none'  var xhr;  if (window.XMLHttpRequest) {  //Modern browsers use native object  xhr = new XMLHttpRequest();  } else {  //IE 5 and 6  xhr = new ActiveXObject(\"Microsoft.XMLHTTP\");  }  xhr.open('POST', \"/distil_r_captcha_challenge\", true);  xhr.onreadystatechange = function(){  var captchaDestinationId = 'captcha-box'  var captchaStatus = document.getElementById('captcha-status-message')  if (xhr.readyState == 4) {  if (xhr.status == 200) {  captchaStatus.setAttribute('class', 'text-info')  captchaStatus.innerHTML = 'Loading Captcha &amp;hellip;&lt;br&gt;'  captchaStatus.style.display = \"inline\"  var response = xhr.responseText.split(';')  initGeetest({  gt: 'f2ae6cadcf7886856696502e1d55e00c' ,  challenge: response[0], // Challenge encoded  product: 'float',  offline: false,  new_captcha: 1,  api_server: 'api-na.geetest.com',  lang: response[1] // Language encoded  }, function(captchaObj){  captchaObj.onReady(function() {  captchaStatus.style.display = 'none'  captchaStatus.setAttribute('class', 'text-info')  })  captchaObj.appendTo(document.getElementById(captchaDestinationId))  captchaObj.onSuccess(distilCallbackGuard(\"distilCaptchaDoneCallback\"))  })  } else {  captchaStatus.innerHTML = \"We&amp;apos;re having trouble loading your Captcha. Consider refreshing the page.&lt;br&gt;\"  captchaStatus.setAttribute('class', 'text-danger')  captchaStatus.style.display = \"inline\"  window.setTimeout(generateCaptcha(timeout * 2), timeout)  }  }  }  xhr.send()  } }  if (window.addEventListener) {  window.addEventListener('load', generateCaptcha(500), false);  } else if (window.attachEvent) {  // IE 5 and 6  window.attachEvent('onload', generateCaptcha(500));  }  You reached this page when attempting to access http://www.homes.co.jp/chintai/tokyo/list/ from 219.100.28.187 on 2019-08-31 06:29:57 UTC.  Trace: 45a5952e-52f0-48e2-8353-caa0f400543e via ee8515d0-2f2d-4d63-b8a3-36f2a7f0cc50  ページが表示されない場合はこちらのフォームからお問い合わせください。.1</th>\n",
       "    </tr>\n",
       "  </thead>\n",
       "  <tbody>\n",
       "    <tr>\n",
       "      <th>0</th>\n",
       "      <td>リクエストがブロックされました！ あなたのリクエストがボットからのアクセスと判断されました。...</td>\n",
       "      <td>NaN</td>\n",
       "    </tr>\n",
       "  </tbody>\n",
       "</table>\n",
       "</div>"
      ],
      "text/plain": [
       "  リクエストがブロックされました！ あなたのリクエストがボットからのアクセスと判断されました。この画面が表示される理由はいくつかあります。  通常のサイト閲覧を超える速度でリクエストを繰り返している ウェブブラウザのJavaScript設定が無効になっている Ghostery や NoScriptなどのサードパーティのブラウザプラグインによってJavaScriptの実行が邪魔されている  サードパーティのブラウザプラグインによる詳細情報は下記のリンクよりご覧いただけます。 サポート記事(英語) サイトの閲覧を続けるには下のテキストボックスに画像の文字を入力してボタンをクリックしてください。  var distilRequestMethod = \"GET\";  var distilSafariNumberStepsBack = 1;  var distilCallbackGuard = function(callbackName) {  return function() {  if (typeof(window[callbackName]) === 'function') {  return window[callbackName].apply(null, arguments)  } else {  document.getElementById('dCF_input_complete').style.display = 'inline'  }  }  }  JavaScript needs to be enabled to complete CAPTCHA.  function generateCaptcha(timeout) { return function() {  // IE 6 and below is the reason for `generateCaptcha` taking a timeout and  // returning a function. In those browsers, `setTimeout` is unable to pass additional  // parameters to the function when the timeout is triggered.  document.getElementById('dCF_input_complete').style.display = 'none'  var xhr;  if (window.XMLHttpRequest) {  //Modern browsers use native object  xhr = new XMLHttpRequest();  } else {  //IE 5 and 6  xhr = new ActiveXObject(\"Microsoft.XMLHTTP\");  }  xhr.open('POST', \"/distil_r_captcha_challenge\", true);  xhr.onreadystatechange = function(){  var captchaDestinationId = 'captcha-box'  var captchaStatus = document.getElementById('captcha-status-message')  if (xhr.readyState == 4) {  if (xhr.status == 200) {  captchaStatus.setAttribute('class', 'text-info')  captchaStatus.innerHTML = 'Loading Captcha &hellip;<br>'  captchaStatus.style.display = \"inline\"  var response = xhr.responseText.split(';')  initGeetest({  gt: 'f2ae6cadcf7886856696502e1d55e00c' ,  challenge: response[0], // Challenge encoded  product: 'float',  offline: false,  new_captcha: 1,  api_server: 'api-na.geetest.com',  lang: response[1] // Language encoded  }, function(captchaObj){  captchaObj.onReady(function() {  captchaStatus.style.display = 'none'  captchaStatus.setAttribute('class', 'text-info')  })  captchaObj.appendTo(document.getElementById(captchaDestinationId))  captchaObj.onSuccess(distilCallbackGuard(\"distilCaptchaDoneCallback\"))  })  } else {  captchaStatus.innerHTML = \"We&apos;re having trouble loading your Captcha. Consider refreshing the page.<br>\"  captchaStatus.setAttribute('class', 'text-danger')  captchaStatus.style.display = \"inline\"  window.setTimeout(generateCaptcha(timeout * 2), timeout)  }  }  }  xhr.send()  } }  if (window.addEventListener) {  window.addEventListener('load', generateCaptcha(500), false);  } else if (window.attachEvent) {  // IE 5 and 6  window.attachEvent('onload', generateCaptcha(500));  }  You reached this page when attempting to access http://www.homes.co.jp/chintai/tokyo/list/ from 219.100.28.187 on 2019-08-31 06:29:57 UTC.  Trace: 45a5952e-52f0-48e2-8353-caa0f400543e via ee8515d0-2f2d-4d63-b8a3-36f2a7f0cc50  ページが表示されない場合はこちらのフォームからお問い合わせください。  \\\n",
       "0  リクエストがブロックされました！ あなたのリクエストがボットからのアクセスと判断されました。...                                                                                                                                                                                                                                                                                                                                                                                                                                                                                                                                                                                                                                                                                                                                                                                                                                                                                                                                                                                                                                                                                                                                                                                                                                                                                                                                                                                                                                                                                                                                                                                                                                                                                                                                                                                                                                                                                                                                                                                                                                                                                                                                                                                                                                                                                                                                                                                                                                                                                                                                                                                                                                                                                                                                                                                                                                                                                                                                                                                                                                \n",
       "\n",
       "   リクエストがブロックされました！ あなたのリクエストがボットからのアクセスと判断されました。この画面が表示される理由はいくつかあります。  通常のサイト閲覧を超える速度でリクエストを繰り返している ウェブブラウザのJavaScript設定が無効になっている Ghostery や NoScriptなどのサードパーティのブラウザプラグインによってJavaScriptの実行が邪魔されている  サードパーティのブラウザプラグインによる詳細情報は下記のリンクよりご覧いただけます。 サポート記事(英語) サイトの閲覧を続けるには下のテキストボックスに画像の文字を入力してボタンをクリックしてください。  var distilRequestMethod = \"GET\";  var distilSafariNumberStepsBack = 1;  var distilCallbackGuard = function(callbackName) {  return function() {  if (typeof(window[callbackName]) === 'function') {  return window[callbackName].apply(null, arguments)  } else {  document.getElementById('dCF_input_complete').style.display = 'inline'  }  }  }  JavaScript needs to be enabled to complete CAPTCHA.  function generateCaptcha(timeout) { return function() {  // IE 6 and below is the reason for `generateCaptcha` taking a timeout and  // returning a function. In those browsers, `setTimeout` is unable to pass additional  // parameters to the function when the timeout is triggered.  document.getElementById('dCF_input_complete').style.display = 'none'  var xhr;  if (window.XMLHttpRequest) {  //Modern browsers use native object  xhr = new XMLHttpRequest();  } else {  //IE 5 and 6  xhr = new ActiveXObject(\"Microsoft.XMLHTTP\");  }  xhr.open('POST', \"/distil_r_captcha_challenge\", true);  xhr.onreadystatechange = function(){  var captchaDestinationId = 'captcha-box'  var captchaStatus = document.getElementById('captcha-status-message')  if (xhr.readyState == 4) {  if (xhr.status == 200) {  captchaStatus.setAttribute('class', 'text-info')  captchaStatus.innerHTML = 'Loading Captcha &hellip;<br>'  captchaStatus.style.display = \"inline\"  var response = xhr.responseText.split(';')  initGeetest({  gt: 'f2ae6cadcf7886856696502e1d55e00c' ,  challenge: response[0], // Challenge encoded  product: 'float',  offline: false,  new_captcha: 1,  api_server: 'api-na.geetest.com',  lang: response[1] // Language encoded  }, function(captchaObj){  captchaObj.onReady(function() {  captchaStatus.style.display = 'none'  captchaStatus.setAttribute('class', 'text-info')  })  captchaObj.appendTo(document.getElementById(captchaDestinationId))  captchaObj.onSuccess(distilCallbackGuard(\"distilCaptchaDoneCallback\"))  })  } else {  captchaStatus.innerHTML = \"We&apos;re having trouble loading your Captcha. Consider refreshing the page.<br>\"  captchaStatus.setAttribute('class', 'text-danger')  captchaStatus.style.display = \"inline\"  window.setTimeout(generateCaptcha(timeout * 2), timeout)  }  }  }  xhr.send()  } }  if (window.addEventListener) {  window.addEventListener('load', generateCaptcha(500), false);  } else if (window.attachEvent) {  // IE 5 and 6  window.attachEvent('onload', generateCaptcha(500));  }  You reached this page when attempting to access http://www.homes.co.jp/chintai/tokyo/list/ from 219.100.28.187 on 2019-08-31 06:29:57 UTC.  Trace: 45a5952e-52f0-48e2-8353-caa0f400543e via ee8515d0-2f2d-4d63-b8a3-36f2a7f0cc50  ページが表示されない場合はこちらのフォームからお問い合わせください。.1  \n",
       "0                                                NaN                                                                                                                                                                                                                                                                                                                                                                                                                                                                                                                                                                                                                                                                                                                                                                                                                                                                                                                                                                                                                                                                                                                                                                                                                                                                                                                                                                                                                                                                                                                                                                                                                                                                                                                                                                                                                                                                                                                                                                                                                                                                                                                                                                                                                                                                                                                                                                                                                                                                                                                                                                                                                                                                                                                                                                                                                                                                                                                                                                                                                                  "
      ]
     },
     "execution_count": 3,
     "metadata": {},
     "output_type": "execute_result"
    }
   ],
   "source": [
    "res = requests.get(\"https://www.homes.co.jp/chintai/tokyo/list/\", headers=headers) #Saves html link\n",
    "soup = BeautifulSoup(res.content,'lxml') #Saves an element of that link (lxml) to be scraped\n",
    "table = soup.find_all('table')[0]  #Scrapes all data in that element into a table \n",
    "df = pd.read_html(str(table), header=0)[0] #Turns that table into a dataframe\n",
    "df.head()"
   ]
  },
  {
   "cell_type": "code",
   "execution_count": null,
   "metadata": {},
   "outputs": [],
   "source": [
    "df = df.drop(df[df[\"Borough\"] == 'Not assigned'].index) #Drops cells with a borough that is Not assigned.\n",
    "df.head(25)"
   ]
  },
  {
   "cell_type": "code",
   "execution_count": 26,
   "metadata": {},
   "outputs": [],
   "source": [
    "for page in range(0,1):\n",
    "    url = \"https://www.homes.co.jp/chintai/tokyo/list/\".format(page)\n",
    "    response=requests.get(url)\n",
    "    soup = BeautifulSoup(response.content,\"html.parser\")\n",
    "    table = soup.find_all(\"div\", {\"class\":\"prg-mod-bukkenList\"})\n",
    "        \n",
    "    for i in Title:\n",
    "        try:\n",
    "            bukkenName = i.find(\"div\", {\"class\":\"bukkenName prg-detailLinkTrigger\"}).get_text()            \n",
    "            bukkenRoom= i.find(\"div\", {\"class\":\"views-field-title\"}).get_text()\n",
    "            roomKaisuu= i.find(\"div\", {\"class\":\"views-field-title\"}).get_text()\n",
    "            price= i.find(\"div\", {\"class\":\"views-field-title\"}).get_text()\n",
    "            address = i.find(\"div\", {\"class\":\"views-field-address\"}).get_text()\n",
    "            space=i.find(\"div\", {\"class\":\"views-field-address\"}).get_text()\n",
    "            layout=i.find(\"div\", {\"class\":\"views-field-address\"}).get_text()\n",
    "            print(BukkenName, BukkenRoom, roomKaisuu, price, address, space, layout)\n",
    "            f.write(\"{}\".format(bukkenName).replace(\",\",\"|\")+ \",{}\".format(bukkenRoom)+  \",{}\".format(roomKaisuu)+ \",{}\".format(price)+ \",{}\".format(address).replace(\",\", \" \")+ \",{}\".format(space) + \",{}\".format(layout) + \"/n\")\n",
    "        except: AttributeError\n",
    "f.close()"
   ]
  }
 ],
 "metadata": {
  "kernelspec": {
   "display_name": "Python 3",
   "language": "python",
   "name": "python3"
  },
  "language_info": {
   "codemirror_mode": {
    "name": "ipython",
    "version": 3
   },
   "file_extension": ".py",
   "mimetype": "text/x-python",
   "name": "python",
   "nbconvert_exporter": "python",
   "pygments_lexer": "ipython3",
   "version": "3.7.1"
  }
 },
 "nbformat": 4,
 "nbformat_minor": 2
}
