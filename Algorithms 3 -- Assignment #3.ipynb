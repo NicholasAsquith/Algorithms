{
 "cells": [
  {
   "cell_type": "code",
   "execution_count": 1,
   "metadata": {},
   "outputs": [
    {
     "name": "stdout",
     "output_type": "stream",
     "text": [
      "106\n"
     ]
    }
   ],
   "source": [
    "def cluster(edges , k , verticies):\n",
    "    clusters = []\n",
    "    for i in range(1 , verticies+1):\n",
    "        clusters.append({i})\n",
    "    while(len(clusters) != k):\n",
    "        edge = edges.pop(0)\n",
    "        first_flag = False\n",
    "        second_flag = False\n",
    "        for i in range(len(clusters)): \n",
    "            if edge[0] in clusters[i]:\n",
    "                first_index = i\n",
    "                first_flag = True\n",
    "            if edge[1] in clusters[i]:\n",
    "                second_index = i\n",
    "                second_flag = True\n",
    "            if first_flag and second_flag:\n",
    "                break\n",
    "        if first_index != second_index:\n",
    "            if first_index < second_index:\n",
    "                clusters.append(clusters.pop(first_index).union(clusters.pop(second_index-1)))\n",
    "            else:\n",
    "                clusters.append(clusters.pop(first_index).union(clusters.pop(second_index))) \n",
    "    \n",
    "    same_cluster = True\n",
    "    while(same_cluster) :\n",
    "        edge = edges.pop(0)\n",
    "        for j in range(k):\n",
    "            if edge[0] in clusters[j] and edge[1] not in clusters[j]:\n",
    "                ans = edge[2]\n",
    "                same_cluster = False\n",
    "            \n",
    "    return ans\n",
    "            \n",
    "        \n",
    "\n",
    "\n",
    "\n",
    "\n",
    "edges = []\n",
    "with open('C:/clustering1.txt') as f:\n",
    "    verticies = int(f.readline())\n",
    "    data = f.readlines()\n",
    "    for line in data:\n",
    "        edge = list(map(int,(line[:-1]).split()))\n",
    "        edges.append(edge)\n",
    "f.close()\n",
    "\n",
    "edges.sort(key = lambda x : x[2])\n",
    "print(cluster(edges , 4 , verticies))"
   ]
  },
  {
   "cell_type": "code",
   "execution_count": null,
   "metadata": {},
   "outputs": [],
   "source": []
  }
 ],
 "metadata": {
  "kernelspec": {
   "display_name": "Python 3",
   "language": "python",
   "name": "python3"
  },
  "language_info": {
   "codemirror_mode": {
    "name": "ipython",
    "version": 3
   },
   "file_extension": ".py",
   "mimetype": "text/x-python",
   "name": "python",
   "nbconvert_exporter": "python",
   "pygments_lexer": "ipython3",
   "version": "3.7.1"
  }
 },
 "nbformat": 4,
 "nbformat_minor": 2
}
